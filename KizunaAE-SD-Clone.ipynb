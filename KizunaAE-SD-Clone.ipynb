{
  "cells": [
    {
      "cell_type": "markdown",
      "metadata": {
        "id": "view-in-github",
        "colab_type": "text"
      },
      "source": [
        "<a href=\"https://colab.research.google.com/github/KizunaAE/GColabSD/blob/main/KizunaAE-SD-Clone.ipynb\" target=\"_parent\"><img src=\"https://colab.research.google.com/assets/colab-badge.svg\" alt=\"Open In Colab\"/></a>"
      ]
    },
    {
      "cell_type": "markdown",
      "metadata": {
        "id": "anqY-GmKTL8V"
      },
      "source": [
        "# **StableDiffusion InvokeAI Base Cloud version**\n",
        "\n",
        "\n",
        "\n",
        "_You don't need additional Google Drive storage because uploaded models are not stored on your Google Drive. After the session ends, all data will be deleted._"
      ]
    },
    {
      "cell_type": "code",
      "execution_count": null,
      "metadata": {
        "cellView": "form",
        "id": "JQ5qVdNPFqYJ"
      },
      "outputs": [],
      "source": [
        "#@markdown # **STEP 1**\n",
        "#@markdown ## Requirements\n",
        "#@markdown It might finished with error but is not the error, just execute the next cell\n",
        "\n",
        "from IPython.display import clear_output\n",
        "\n",
        "%cd /content\n",
        "!git clone https://github.com/KizunaAE/InvokeAI\n",
        "!pip install -q dependency_injector diffusers einops eventlet facexlib flask_cors flask_socketio flaskwebgui getpass_asterisk huggingface-hub\n",
        "!pip install -q kornia omegaconf pudb pyreadline3 pytorch-lightning realesrgan streamlit taming-transformers-rom1504 test-tube torch-fidelity\n",
        "!pip install -q torchmetrics transformers picklescan\n",
        "!pip install -q pillow xformers==0.0.22 triton==2.0.0 -U\n",
        "clear_output()\n",
        "\n",
        "!pip install -q git+https://github.com/invoke-ai/GFPGAN@basicsr-1.4.2#egg=gfpgan\n",
        "!pip install -q git+https://github.com/openai/CLIP.git@main#egg=clip\n",
        "!pip install -q git+https://github.com/Birch-san/k-diffusion.git@mps#egg=k-diffusion\n",
        "!pip install -q git+https://github.com/invoke-ai/clipseg.git@relaxed-python-requirement#egg=clipseg\n",
        "!pip install -q git+https://github.com/invoke-ai/PyPatchMatch@0.1.4#egg=pypatchmatch\n",
        "%cd /content/InvokeAI/\n",
        "!pip install -q -e .\n",
        "clear_output()\n",
        "\n",
        "\n",
        "!wget https://raw.githubusercontent.com/KizunaAE/InvokeAI/main/InvokeAI-colab/main/INITIAL_MODELS.yaml -O /content/InvokeAI/invokeai/configs/INITIAL_MODELS.yaml\n",
        "\n",
        "!pip install python-socketio==5.9.0\n",
        "\n",
        "print('\u001b[1;32mDone! All models downloaded successfully 🙃')\n"
      ]
    },
    {
      "cell_type": "code",
      "source": [
        "#@markdown #STEP 2️⃣: Setup InvokeAI WebUI\n",
        "\n",
        "#@markdown Keterangan: Wajib untuk Setup Model awal Stable Diffusion. Sekalian bisa pilih Model ControlNET atau abaikan saja.\n",
        "sd1_controlnet_canny = False # @param {type:\"boolean\"}\n",
        "!sed -i \"80s/recommended: \\(True\\|False\\)/recommended: $sd1_controlnet_canny/\" /content/InvokeAI/invokeai/configs/INITIAL_MODELS.yaml\n",
        "\n",
        "sd1_controlnet_inpaint = False # @param {type:\"boolean\"}\n",
        "!sed -i \"84s/recommended: \\(True\\|False\\)/recommended: $sd1_controlnet_inpaint/\" /content/InvokeAI/invokeai/configs/INITIAL_MODELS.yaml\n",
        "\n",
        "sd1_controlnet_mlsd = False # @param {type:\"boolean\"}\n",
        "!sed -i \"88s/recommended: \\(True\\|False\\)/recommended: $sd1_controlnet_mlsd/\" /content/InvokeAI/invokeai/configs/INITIAL_MODELS.yaml\n",
        "\n",
        "sd1_controlnet_depth = False # @param {type:\"boolean\"}\n",
        "!sed -i \"92s/recommended: \\(True\\|False\\)/recommended: $sd1_controlnet_depth/\" /content/InvokeAI/invokeai/configs/INITIAL_MODELS.yaml\n",
        "\n",
        "sd1_controlnet_normal_bae = False # @param {type:\"boolean\"}\n",
        "!sed -i \"96s/recommended: \\(True\\|False\\)/recommended: $sd1_controlnet_normal_bae/\" /content/InvokeAI/invokeai/configs/INITIAL_MODELS.yaml\n",
        "\n",
        "sd1_controlnet_seg = False # @param {type:\"boolean\"}\n",
        "!sed -i \"100s/recommended: \\(True\\|False\\)/recommended: $sd1_controlnet_seg/\" /content/InvokeAI/invokeai/configs/INITIAL_MODELS.yaml\n",
        "\n",
        "sd1_controlnet_lineart = False # @param {type:\"boolean\"}\n",
        "!sed -i \"104s/recommended: \\(True\\|False\\)/recommended: $sd1_controlnet_lineart/\" /content/InvokeAI/invokeai/configs/INITIAL_MODELS.yaml\n",
        "\n",
        "sd1_controlnet_lineart_anime = False # @param {type:\"boolean\"}\n",
        "!sed -i \"106s/recommended: \\(True\\|False\\)/recommended: $sd1_controlnet_lineart_anime/\" /content/InvokeAI/invokeai/configs/INITIAL_MODELS.yaml\n",
        "\n",
        "sd1_controlnet_openpose = False # @param {type:\"boolean\"}\n",
        "!sed -i \"112s/recommended: \\(True\\|False\\)/recommended: $sd1_controlnet_openpose/\" /content/InvokeAI/invokeai/configs/INITIAL_MODELS.yaml\n",
        "\n",
        "sd1_controlnet_scribble = False # @param {type:\"boolean\"}\n",
        "!sed -i \"116s/recommended: \\(True\\|False\\)/recommended: $sd1_controlnet_scribble/\" /content/InvokeAI/invokeai/configs/INITIAL_MODELS.yaml\n",
        "\n",
        "sd1_controlnet_softedge = False # @param {type:\"boolean\"}\n",
        "!sed -i \"120s/recommended: \\(True\\|False\\)/recommended: $sd1_controlnet_softedge/\" /content/InvokeAI/invokeai/configs/INITIAL_MODELS.yaml\n",
        "\n",
        "sd1_controlnet_shuffle = False # @param {type:\"boolean\"}\n",
        "!sed -i \"124s/recommended: \\(True\\|False\\)/recommended: $sd1_controlnet_shuffle/\" /content/InvokeAI/invokeai/configs/INITIAL_MODELS.yaml\n",
        "\n",
        "sd1_controlnet_tile = False # @param {type:\"boolean\"}\n",
        "!sed -i \"128s/recommended: \\(True\\|False\\)/recommended: $sd1_controlnet_tile/\" /content/InvokeAI/invokeai/configs/INITIAL_MODELS.yaml\n",
        "\n",
        "sd1_controlnet_ip2p = False # @param {type:\"boolean\"}\n",
        "!sed -i \"132s/recommended: \\(True\\|False\\)/recommended: $sd1_controlnet_ip2p/\" /content/InvokeAI/invokeai/configs/INITIAL_MODELS.yaml\n",
        "\n",
        "def Invoke_SetupModels():\n",
        "    %cd /content/InvokeAI/\n",
        "    !python /content/InvokeAI/scripts/invokeai-model-install.py --yes --root_dir /content/sd-db\n",
        "\n",
        "Invoke_SetupModels()"
      ],
      "metadata": {
        "id": "xc9BCoXZ-rDH",
        "cellView": "form"
      },
      "execution_count": null,
      "outputs": []
    },
    {
      "cell_type": "code",
      "execution_count": null,
      "metadata": {
        "cellView": "form",
        "id": "BWoTrZLRP5zh"
      },
      "outputs": [],
      "source": [
        "#@markdown # **STEP 3**\n",
        "#@markdown ## Run StableDiffusion InvokeAI\n",
        "\n",
        "import os\n",
        "import shlex\n",
        "import subprocess\n",
        "from pathlib import Path\n",
        "from typing import Union\n",
        "clear_output()\n",
        "\n",
        "\n",
        "id_rsa_file = \"/content/InvokeAI/id_rsa\"\n",
        "id_rsa_pub_file = \"/content/InvokeAI/id_rsa.pub\"\n",
        "if os.path.exists(id_rsa_file):\n",
        "    os.remove(id_rsa_file)\n",
        "if os.path.exists(id_rsa_pub_file):\n",
        "    os.remove(id_rsa_pub_file)\n",
        "clear_output()\n",
        "\n",
        "def gen_key(path: Union[str, Path]) -> None:\n",
        "    path = Path(path)\n",
        "    arg_string = f'ssh-keygen -t rsa -b 4096 -N \"\" -q -f {path.as_posix()}'\n",
        "    args = shlex.split(arg_string)\n",
        "    subprocess.run(args, check=False)\n",
        "    path.chmod(0o600)\n",
        "\n",
        "ssh_name = \"id_rsa\"\n",
        "ssh_path = Path(os.path.dirname(os.getcwd())) / ssh_name\n",
        "gen_key(ssh_path)\n",
        "clear_output()\n",
        "\n",
        "import threading\n",
        "def tunnel():\n",
        "  !ssh -R 80:127.0.0.1:9090 -o StrictHostKeyChecking=no -i /content/id_rsa remote.moe\n",
        "threading.Thread(target=tunnel, daemon=True).start()\n",
        "\n",
        "%cd /content/InvokeAI/\n",
        "!python /content/InvokeAI/scripts/invokeai-web.py --root /content/db"
      ]
    }
  ],
  "metadata": {
    "accelerator": "GPU",
    "colab": {
      "provenance": [],
      "include_colab_link": true
    },
    "kernelspec": {
      "display_name": "Python 3",
      "name": "python3"
    },
    "language_info": {
      "name": "python"
    }
  },
  "nbformat": 4,
  "nbformat_minor": 0
}
